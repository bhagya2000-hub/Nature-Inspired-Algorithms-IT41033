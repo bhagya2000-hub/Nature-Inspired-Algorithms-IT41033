{
  "nbformat": 4,
  "nbformat_minor": 0,
  "metadata": {
    "colab": {
      "provenance": [],
      "authorship_tag": "ABX9TyMEy/7OConz6yEZGXxFCd7H",
      "include_colab_link": true
    },
    "kernelspec": {
      "name": "python3",
      "display_name": "Python 3"
    },
    "language_info": {
      "name": "python"
    }
  },
  "cells": [
    {
      "cell_type": "markdown",
      "metadata": {
        "id": "view-in-github",
        "colab_type": "text"
      },
      "source": [
        "<a href=\"https://colab.research.google.com/github/bhagya2000-hub/Nature-Inspired-Algorithms-IT41033/blob/main/Mini_Project_(IT41033)_source_code(Data_Preprocessing_ipynb.ipynb\" target=\"_parent\"><img src=\"https://colab.research.google.com/assets/colab-badge.svg\" alt=\"Open In Colab\"/></a>"
      ]
    },
    {
      "cell_type": "code",
      "source": [
        "# Print all column names to check for exact spelling and case\n",
        "print(spotify_data.columns)\n"
      ],
      "metadata": {
        "colab": {
          "base_uri": "https://localhost:8080/"
        },
        "id": "aAe5PPTZAtlA",
        "outputId": "fa8f794d-fef3-4f00-c626-98af1ae18213"
      },
      "execution_count": null,
      "outputs": [
        {
          "output_type": "stream",
          "name": "stdout",
          "text": [
            "Index(['Track', 'Album Name', 'Artist', 'Release Date', 'ISRC',\n",
            "       'All Time Rank', 'Track Score', 'Spotify Streams',\n",
            "       'Spotify Playlist Count', 'Spotify Playlist Reach',\n",
            "       'Spotify Popularity', 'YouTube Views', 'YouTube Likes', 'TikTok Posts',\n",
            "       'TikTok Likes', 'TikTok Views', 'YouTube Playlist Reach',\n",
            "       'Apple Music Playlist Count', 'AirPlay Spins', 'SiriusXM Spins',\n",
            "       'Deezer Playlist Count', 'Deezer Playlist Reach',\n",
            "       'Amazon Playlist Count', 'Pandora Streams', 'Pandora Track Stations',\n",
            "       'Soundcloud Streams', 'Shazam Counts', 'TIDAL Popularity',\n",
            "       'Explicit Track', 'Unnamed: 29'],\n",
            "      dtype='object')\n"
          ]
        }
      ]
    },
    {
      "cell_type": "code",
      "source": [
        "# Example: Accessing a different column if 'Streams' is not present\n",
        "# Check available columns\n",
        "print(spotify_data.columns)\n",
        "\n",
        "# Example: Using a different column for analysis\n",
        "if 'TotalStreams' in spotify_data.columns:\n",
        "    plt.figure(figsize=(10, 6))\n",
        "    plt.hist(spotify_data['TotalStreams'], bins=20, color='skyblue', edgecolor='black')\n",
        "    plt.title('Distribution of Total Streams')\n",
        "    plt.xlabel('Number of Streams')\n",
        "    plt.ylabel('Frequency')\n",
        "    plt.grid(True)\n",
        "    plt.show()\n",
        "else:\n",
        "    print(\"The column 'TotalStreams' is not available in the dataset.\")\n"
      ],
      "metadata": {
        "colab": {
          "base_uri": "https://localhost:8080/"
        },
        "id": "r6TfQX_3Azo2",
        "outputId": "2d67e519-543c-4775-a689-cff8c997555e"
      },
      "execution_count": null,
      "outputs": [
        {
          "output_type": "stream",
          "name": "stdout",
          "text": [
            "Index(['Track', 'Album Name', 'Artist', 'Release Date', 'ISRC',\n",
            "       'All Time Rank', 'Track Score', 'Spotify Streams',\n",
            "       'Spotify Playlist Count', 'Spotify Playlist Reach',\n",
            "       'Spotify Popularity', 'YouTube Views', 'YouTube Likes', 'TikTok Posts',\n",
            "       'TikTok Likes', 'TikTok Views', 'YouTube Playlist Reach',\n",
            "       'Apple Music Playlist Count', 'AirPlay Spins', 'SiriusXM Spins',\n",
            "       'Deezer Playlist Count', 'Deezer Playlist Reach',\n",
            "       'Amazon Playlist Count', 'Pandora Streams', 'Pandora Track Stations',\n",
            "       'Soundcloud Streams', 'Shazam Counts', 'TIDAL Popularity',\n",
            "       'Explicit Track', 'Unnamed: 29'],\n",
            "      dtype='object')\n",
            "The column 'TotalStreams' is not available in the dataset.\n"
          ]
        }
      ]
    },
    {
      "cell_type": "code",
      "source": [
        "import pandas as pd\n",
        "\n",
        "# Load the CSV file (adjust the file path and encoding if necessary)\n",
        "file_path = 'Most_Streamed_Spotify_Songs_2024.csv'\n",
        "spotify_data = pd.read_csv(file_path, encoding='ISO-8859-1')\n"
      ],
      "metadata": {
        "id": "Zg4TwfAQA6gu"
      },
      "execution_count": null,
      "outputs": []
    },
    {
      "cell_type": "code",
      "source": [
        "# Display the first few rows of the dataset\n",
        "print(spotify_data.head())\n"
      ],
      "metadata": {
        "colab": {
          "base_uri": "https://localhost:8080/"
        },
        "id": "fOpk0kntAwRW",
        "outputId": "2fcaa038-85dc-4760-92c3-f7baf2da56a9"
      },
      "execution_count": null,
      "outputs": [
        {
          "output_type": "stream",
          "name": "stdout",
          "text": [
            "                        Track                    Album Name          Artist  \\\n",
            "0         MILLION DOLLAR BABY  Million Dollar Baby - Single   Tommy Richman   \n",
            "1                 Not Like Us                   Not Like Us  Kendrick Lamar   \n",
            "2  i like the way you kiss me    I like the way you kiss me         Artemas   \n",
            "3                     Flowers              Flowers - Single     Miley Cyrus   \n",
            "4                     Houdini                       Houdini          Eminem   \n",
            "\n",
            "  Release Date          ISRC All Time Rank  Track Score Spotify Streams  \\\n",
            "0    4/26/2024  QM24S2402528             1        725.4     390,470,936   \n",
            "1     5/4/2024  USUG12400910             2        545.9     323,703,884   \n",
            "2    3/19/2024  QZJ842400387             3        538.4     601,309,283   \n",
            "3    1/12/2023  USSM12209777             4        444.9   2,031,280,633   \n",
            "4    5/31/2024  USUG12403398             5        423.3     107,034,922   \n",
            "\n",
            "  Spotify Playlist Count Spotify Playlist Reach  ...  Deezer Playlist Count  \\\n",
            "0                 30,716            196,631,588  ...                  684.0   \n",
            "1                 28,113            174,597,137  ...                   67.0   \n",
            "2                 54,331            211,607,669  ...                  136.0   \n",
            "3                269,802            136,569,078  ...                  264.0   \n",
            "4                  7,223            151,469,874  ...                   82.0   \n",
            "\n",
            "  Deezer Playlist Reach Amazon Playlist Count Pandora Streams  \\\n",
            "0                    62            17,598,718             114   \n",
            "1            10,422,430                   111       7,780,028   \n",
            "2            36,321,847                   172       5,022,621   \n",
            "3            24,684,248                   210     190,260,277   \n",
            "4            17,660,624                   105       4,493,884   \n",
            "\n",
            "  Pandora Track Stations Soundcloud Streams Shazam Counts TIDAL Popularity  \\\n",
            "0             18,004,655             22,931     4,818,457        2,669,262   \n",
            "1                 28,444          6,623,075     1,118,279              NaN   \n",
            "2                  5,639          7,208,651     5,285,340              NaN   \n",
            "3                203,384                NaN    11,822,942              NaN   \n",
            "4                  7,006            207,179       457,017              NaN   \n",
            "\n",
            "  Explicit Track Unnamed: 29  \n",
            "0            NaN         0.0  \n",
            "1            1.0         NaN  \n",
            "2            0.0         NaN  \n",
            "3            0.0         NaN  \n",
            "4            1.0         NaN  \n",
            "\n",
            "[5 rows x 30 columns]\n"
          ]
        }
      ]
    },
    {
      "cell_type": "code",
      "source": [
        "import pandas as pd\n",
        "\n",
        "# Load the CSV file (adjust the file path and encoding if necessary)\n",
        "file_path = 'Most_Streamed_Spotify_Songs_2024.csv'\n",
        "spotify_data = pd.read_csv(file_path, encoding='ISO-8859-1')\n",
        "\n",
        "# Display the first few rows of the dataset to verify its content\n",
        "print(\"First 5 rows of the dataset:\")\n",
        "print(spotify_data.head())\n",
        "\n",
        "# Check for missing values\n",
        "print(\"\\nMissing Values Before Handling:\")\n",
        "print(spotify_data.isnull().sum())\n",
        "\n",
        "# Check column names and correct if necessary\n",
        "print(spotify_data.columns) # Print the columns to inspect\n",
        "# If the column name is different, rename it\n",
        "spotify_data.rename(columns={'streams': 'Streams'}, inplace=True) # Example: rename 'streams' to 'Streams'\n",
        "\n",
        "# Handle missing values with median (for numerical columns)\n",
        "spotify_data['Streams'].fillna(spotify_data['Streams'].median(), inplace=True)\n",
        "\n",
        "# Handle missing values with mode (for categorical columns, if any)\n",
        "# Example: spotify_data['Genre'].fillna(spotify_data['Genre'].mode()[0], inplace=True)\n",
        "\n",
        "# Check the dataset after handling missing values\n",
        "print(\"\\nMissing Values After Handling:\")\n",
        "print(spotify_data.isnull().sum())\n",
        "\n",
        "# Example: Remove rows with missing 'Streams' values\n",
        "spotify_data.dropna(subset=['Streams'], inplace=True)\n",
        "\n",
        "# Check the dataset after removing rows\n",
        "print(\"\\nDataset Info After Cleaning:\")\n",
        "print(spotify_data.info())"
      ],
      "metadata": {
        "colab": {
          "base_uri": "https://localhost:8080/",
          "height": 1000
        },
        "id": "WuuKurEVAA7R",
        "outputId": "099e3a81-c058-4575-c0dc-110477974512"
      },
      "execution_count": null,
      "outputs": [
        {
          "output_type": "stream",
          "name": "stdout",
          "text": [
            "First 5 rows of the dataset:\n",
            "                        Track                    Album Name          Artist  \\\n",
            "0         MILLION DOLLAR BABY  Million Dollar Baby - Single   Tommy Richman   \n",
            "1                 Not Like Us                   Not Like Us  Kendrick Lamar   \n",
            "2  i like the way you kiss me    I like the way you kiss me         Artemas   \n",
            "3                     Flowers              Flowers - Single     Miley Cyrus   \n",
            "4                     Houdini                       Houdini          Eminem   \n",
            "\n",
            "  Release Date          ISRC All Time Rank  Track Score Spotify Streams  \\\n",
            "0    4/26/2024  QM24S2402528             1        725.4     390,470,936   \n",
            "1     5/4/2024  USUG12400910             2        545.9     323,703,884   \n",
            "2    3/19/2024  QZJ842400387             3        538.4     601,309,283   \n",
            "3    1/12/2023  USSM12209777             4        444.9   2,031,280,633   \n",
            "4    5/31/2024  USUG12403398             5        423.3     107,034,922   \n",
            "\n",
            "  Spotify Playlist Count Spotify Playlist Reach  ...  Deezer Playlist Count  \\\n",
            "0                 30,716            196,631,588  ...                  684.0   \n",
            "1                 28,113            174,597,137  ...                   67.0   \n",
            "2                 54,331            211,607,669  ...                  136.0   \n",
            "3                269,802            136,569,078  ...                  264.0   \n",
            "4                  7,223            151,469,874  ...                   82.0   \n",
            "\n",
            "  Deezer Playlist Reach Amazon Playlist Count Pandora Streams  \\\n",
            "0                    62            17,598,718             114   \n",
            "1            10,422,430                   111       7,780,028   \n",
            "2            36,321,847                   172       5,022,621   \n",
            "3            24,684,248                   210     190,260,277   \n",
            "4            17,660,624                   105       4,493,884   \n",
            "\n",
            "  Pandora Track Stations Soundcloud Streams Shazam Counts TIDAL Popularity  \\\n",
            "0             18,004,655             22,931     4,818,457        2,669,262   \n",
            "1                 28,444          6,623,075     1,118,279              NaN   \n",
            "2                  5,639          7,208,651     5,285,340              NaN   \n",
            "3                203,384                NaN    11,822,942              NaN   \n",
            "4                  7,006            207,179       457,017              NaN   \n",
            "\n",
            "  Explicit Track Unnamed: 29  \n",
            "0            NaN         0.0  \n",
            "1            1.0         NaN  \n",
            "2            0.0         NaN  \n",
            "3            0.0         NaN  \n",
            "4            1.0         NaN  \n",
            "\n",
            "[5 rows x 30 columns]\n",
            "\n",
            "Missing Values Before Handling:\n",
            "Track                            0\n",
            "Album Name                       0\n",
            "Artist                           5\n",
            "Release Date                     0\n",
            "ISRC                             0\n",
            "All Time Rank                    0\n",
            "Track Score                      0\n",
            "Spotify Streams                113\n",
            "Spotify Playlist Count          70\n",
            "Spotify Playlist Reach          72\n",
            "Spotify Popularity             805\n",
            "YouTube Views                  308\n",
            "YouTube Likes                  315\n",
            "TikTok Posts                  1173\n",
            "TikTok Likes                   980\n",
            "TikTok Views                   981\n",
            "YouTube Playlist Reach        1009\n",
            "Apple Music Playlist Count     561\n",
            "AirPlay Spins                  498\n",
            "SiriusXM Spins                2123\n",
            "Deezer Playlist Count          921\n",
            "Deezer Playlist Reach          928\n",
            "Amazon Playlist Count         1055\n",
            "Pandora Streams               1106\n",
            "Pandora Track Stations        1268\n",
            "Soundcloud Streams            3333\n",
            "Shazam Counts                  577\n",
            "TIDAL Popularity              4599\n",
            "Explicit Track                   1\n",
            "Unnamed: 29                   4599\n",
            "dtype: int64\n",
            "Index(['Track', 'Album Name', 'Artist', 'Release Date', 'ISRC',\n",
            "       'All Time Rank', 'Track Score', 'Spotify Streams',\n",
            "       'Spotify Playlist Count', 'Spotify Playlist Reach',\n",
            "       'Spotify Popularity', 'YouTube Views', 'YouTube Likes', 'TikTok Posts',\n",
            "       'TikTok Likes', 'TikTok Views', 'YouTube Playlist Reach',\n",
            "       'Apple Music Playlist Count', 'AirPlay Spins', 'SiriusXM Spins',\n",
            "       'Deezer Playlist Count', 'Deezer Playlist Reach',\n",
            "       'Amazon Playlist Count', 'Pandora Streams', 'Pandora Track Stations',\n",
            "       'Soundcloud Streams', 'Shazam Counts', 'TIDAL Popularity',\n",
            "       'Explicit Track', 'Unnamed: 29'],\n",
            "      dtype='object')\n"
          ]
        },
        {
          "output_type": "error",
          "ename": "KeyError",
          "evalue": "'Streams'",
          "traceback": [
            "\u001b[0;31m---------------------------------------------------------------------------\u001b[0m",
            "\u001b[0;31mKeyError\u001b[0m                                  Traceback (most recent call last)",
            "\u001b[0;32m/usr/local/lib/python3.10/dist-packages/pandas/core/indexes/base.py\u001b[0m in \u001b[0;36mget_loc\u001b[0;34m(self, key)\u001b[0m\n\u001b[1;32m   3790\u001b[0m         \u001b[0;32mtry\u001b[0m\u001b[0;34m:\u001b[0m\u001b[0;34m\u001b[0m\u001b[0;34m\u001b[0m\u001b[0m\n\u001b[0;32m-> 3791\u001b[0;31m             \u001b[0;32mreturn\u001b[0m \u001b[0mself\u001b[0m\u001b[0;34m.\u001b[0m\u001b[0m_engine\u001b[0m\u001b[0;34m.\u001b[0m\u001b[0mget_loc\u001b[0m\u001b[0;34m(\u001b[0m\u001b[0mcasted_key\u001b[0m\u001b[0;34m)\u001b[0m\u001b[0;34m\u001b[0m\u001b[0;34m\u001b[0m\u001b[0m\n\u001b[0m\u001b[1;32m   3792\u001b[0m         \u001b[0;32mexcept\u001b[0m \u001b[0mKeyError\u001b[0m \u001b[0;32mas\u001b[0m \u001b[0merr\u001b[0m\u001b[0;34m:\u001b[0m\u001b[0;34m\u001b[0m\u001b[0;34m\u001b[0m\u001b[0m\n",
            "\u001b[0;32mindex.pyx\u001b[0m in \u001b[0;36mpandas._libs.index.IndexEngine.get_loc\u001b[0;34m()\u001b[0m\n",
            "\u001b[0;32mindex.pyx\u001b[0m in \u001b[0;36mpandas._libs.index.IndexEngine.get_loc\u001b[0;34m()\u001b[0m\n",
            "\u001b[0;32mpandas/_libs/hashtable_class_helper.pxi\u001b[0m in \u001b[0;36mpandas._libs.hashtable.PyObjectHashTable.get_item\u001b[0;34m()\u001b[0m\n",
            "\u001b[0;32mpandas/_libs/hashtable_class_helper.pxi\u001b[0m in \u001b[0;36mpandas._libs.hashtable.PyObjectHashTable.get_item\u001b[0;34m()\u001b[0m\n",
            "\u001b[0;31mKeyError\u001b[0m: 'Streams'",
            "\nThe above exception was the direct cause of the following exception:\n",
            "\u001b[0;31mKeyError\u001b[0m                                  Traceback (most recent call last)",
            "\u001b[0;32m<ipython-input-10-30bc6975cbaa>\u001b[0m in \u001b[0;36m<cell line: 21>\u001b[0;34m()\u001b[0m\n\u001b[1;32m     19\u001b[0m \u001b[0;34m\u001b[0m\u001b[0m\n\u001b[1;32m     20\u001b[0m \u001b[0;31m# Handle missing values with median (for numerical columns)\u001b[0m\u001b[0;34m\u001b[0m\u001b[0;34m\u001b[0m\u001b[0m\n\u001b[0;32m---> 21\u001b[0;31m \u001b[0mspotify_data\u001b[0m\u001b[0;34m[\u001b[0m\u001b[0;34m'Streams'\u001b[0m\u001b[0;34m]\u001b[0m\u001b[0;34m.\u001b[0m\u001b[0mfillna\u001b[0m\u001b[0;34m(\u001b[0m\u001b[0mspotify_data\u001b[0m\u001b[0;34m[\u001b[0m\u001b[0;34m'Streams'\u001b[0m\u001b[0;34m]\u001b[0m\u001b[0;34m.\u001b[0m\u001b[0mmedian\u001b[0m\u001b[0;34m(\u001b[0m\u001b[0;34m)\u001b[0m\u001b[0;34m,\u001b[0m \u001b[0minplace\u001b[0m\u001b[0;34m=\u001b[0m\u001b[0;32mTrue\u001b[0m\u001b[0;34m)\u001b[0m\u001b[0;34m\u001b[0m\u001b[0;34m\u001b[0m\u001b[0m\n\u001b[0m\u001b[1;32m     22\u001b[0m \u001b[0;34m\u001b[0m\u001b[0m\n\u001b[1;32m     23\u001b[0m \u001b[0;31m# Handle missing values with mode (for categorical columns, if any)\u001b[0m\u001b[0;34m\u001b[0m\u001b[0;34m\u001b[0m\u001b[0m\n",
            "\u001b[0;32m/usr/local/lib/python3.10/dist-packages/pandas/core/frame.py\u001b[0m in \u001b[0;36m__getitem__\u001b[0;34m(self, key)\u001b[0m\n\u001b[1;32m   3891\u001b[0m             \u001b[0;32mif\u001b[0m \u001b[0mself\u001b[0m\u001b[0;34m.\u001b[0m\u001b[0mcolumns\u001b[0m\u001b[0;34m.\u001b[0m\u001b[0mnlevels\u001b[0m \u001b[0;34m>\u001b[0m \u001b[0;36m1\u001b[0m\u001b[0;34m:\u001b[0m\u001b[0;34m\u001b[0m\u001b[0;34m\u001b[0m\u001b[0m\n\u001b[1;32m   3892\u001b[0m                 \u001b[0;32mreturn\u001b[0m \u001b[0mself\u001b[0m\u001b[0;34m.\u001b[0m\u001b[0m_getitem_multilevel\u001b[0m\u001b[0;34m(\u001b[0m\u001b[0mkey\u001b[0m\u001b[0;34m)\u001b[0m\u001b[0;34m\u001b[0m\u001b[0;34m\u001b[0m\u001b[0m\n\u001b[0;32m-> 3893\u001b[0;31m             \u001b[0mindexer\u001b[0m \u001b[0;34m=\u001b[0m \u001b[0mself\u001b[0m\u001b[0;34m.\u001b[0m\u001b[0mcolumns\u001b[0m\u001b[0;34m.\u001b[0m\u001b[0mget_loc\u001b[0m\u001b[0;34m(\u001b[0m\u001b[0mkey\u001b[0m\u001b[0;34m)\u001b[0m\u001b[0;34m\u001b[0m\u001b[0;34m\u001b[0m\u001b[0m\n\u001b[0m\u001b[1;32m   3894\u001b[0m             \u001b[0;32mif\u001b[0m \u001b[0mis_integer\u001b[0m\u001b[0;34m(\u001b[0m\u001b[0mindexer\u001b[0m\u001b[0;34m)\u001b[0m\u001b[0;34m:\u001b[0m\u001b[0;34m\u001b[0m\u001b[0;34m\u001b[0m\u001b[0m\n\u001b[1;32m   3895\u001b[0m                 \u001b[0mindexer\u001b[0m \u001b[0;34m=\u001b[0m \u001b[0;34m[\u001b[0m\u001b[0mindexer\u001b[0m\u001b[0;34m]\u001b[0m\u001b[0;34m\u001b[0m\u001b[0;34m\u001b[0m\u001b[0m\n",
            "\u001b[0;32m/usr/local/lib/python3.10/dist-packages/pandas/core/indexes/base.py\u001b[0m in \u001b[0;36mget_loc\u001b[0;34m(self, key)\u001b[0m\n\u001b[1;32m   3796\u001b[0m             ):\n\u001b[1;32m   3797\u001b[0m                 \u001b[0;32mraise\u001b[0m \u001b[0mInvalidIndexError\u001b[0m\u001b[0;34m(\u001b[0m\u001b[0mkey\u001b[0m\u001b[0;34m)\u001b[0m\u001b[0;34m\u001b[0m\u001b[0;34m\u001b[0m\u001b[0m\n\u001b[0;32m-> 3798\u001b[0;31m             \u001b[0;32mraise\u001b[0m \u001b[0mKeyError\u001b[0m\u001b[0;34m(\u001b[0m\u001b[0mkey\u001b[0m\u001b[0;34m)\u001b[0m \u001b[0;32mfrom\u001b[0m \u001b[0merr\u001b[0m\u001b[0;34m\u001b[0m\u001b[0;34m\u001b[0m\u001b[0m\n\u001b[0m\u001b[1;32m   3799\u001b[0m         \u001b[0;32mexcept\u001b[0m \u001b[0mTypeError\u001b[0m\u001b[0;34m:\u001b[0m\u001b[0;34m\u001b[0m\u001b[0;34m\u001b[0m\u001b[0m\n\u001b[1;32m   3800\u001b[0m             \u001b[0;31m# If we have a listlike key, _check_indexing_error will raise\u001b[0m\u001b[0;34m\u001b[0m\u001b[0;34m\u001b[0m\u001b[0m\n",
            "\u001b[0;31mKeyError\u001b[0m: 'Streams'"
          ]
        }
      ]
    },
    {
      "cell_type": "code",
      "execution_count": null,
      "metadata": {
        "id": "YNFf6luX_aDN"
      },
      "outputs": [],
      "source": [
        "#Cleaning Data:\n",
        "# 1. Handling Missing Values:"
      ]
    },
    {
      "cell_type": "code",
      "source": [
        "# Check for missing values\n",
        "print(\"Missing Values Before Handling:\")\n",
        "print(spotify_data.isnull().sum())\n",
        "\n",
        "# Check column names and correct if necessary\n",
        "print(spotify_data.columns) # Print the columns to inspect\n",
        "\n",
        "# If the column name is 'streams', rename it to 'Streams'\n",
        "spotify_data.rename(columns={'streams': 'Streams'}, inplace=True)\n",
        "\n",
        "# Handle missing values with median (for numerical columns)\n",
        "spotify_data['Streams'].fillna(spotify_data['Streams'].median(), inplace=True)\n",
        "\n",
        "# Handle missing values with mode (for categorical columns, if any)\n",
        "# Example: spotify_data['Genre'].fillna(spotify_data['Genre'].mode()[0], inplace=True)\n",
        "\n",
        "print(\"\\nMissing Values After Handling:\")\n",
        "print(spotify_data.isnull().sum())\n"
      ],
      "metadata": {
        "colab": {
          "base_uri": "https://localhost:8080/",
          "height": 1000
        },
        "id": "aFIeYiyN_2o8",
        "outputId": "a46c89b8-edc5-4e13-b6f6-ced11e5697d2"
      },
      "execution_count": null,
      "outputs": [
        {
          "output_type": "stream",
          "name": "stdout",
          "text": [
            "Missing Values Before Handling:\n",
            "Track                            0\n",
            "Album Name                       0\n",
            "Artist                           5\n",
            "Release Date                     0\n",
            "ISRC                             0\n",
            "All Time Rank                    0\n",
            "Track Score                      0\n",
            "Spotify Streams                113\n",
            "Spotify Playlist Count          70\n",
            "Spotify Playlist Reach          72\n",
            "Spotify Popularity             805\n",
            "YouTube Views                  308\n",
            "YouTube Likes                  315\n",
            "TikTok Posts                  1173\n",
            "TikTok Likes                   980\n",
            "TikTok Views                   981\n",
            "YouTube Playlist Reach        1009\n",
            "Apple Music Playlist Count     561\n",
            "AirPlay Spins                  498\n",
            "SiriusXM Spins                2123\n",
            "Deezer Playlist Count          921\n",
            "Deezer Playlist Reach          928\n",
            "Amazon Playlist Count         1055\n",
            "Pandora Streams               1106\n",
            "Pandora Track Stations        1268\n",
            "Soundcloud Streams            3333\n",
            "Shazam Counts                  577\n",
            "TIDAL Popularity              4599\n",
            "Explicit Track                   1\n",
            "Unnamed: 29                   4599\n",
            "dtype: int64\n",
            "Index(['Track', 'Album Name', 'Artist', 'Release Date', 'ISRC',\n",
            "       'All Time Rank', 'Track Score', 'Spotify Streams',\n",
            "       'Spotify Playlist Count', 'Spotify Playlist Reach',\n",
            "       'Spotify Popularity', 'YouTube Views', 'YouTube Likes', 'TikTok Posts',\n",
            "       'TikTok Likes', 'TikTok Views', 'YouTube Playlist Reach',\n",
            "       'Apple Music Playlist Count', 'AirPlay Spins', 'SiriusXM Spins',\n",
            "       'Deezer Playlist Count', 'Deezer Playlist Reach',\n",
            "       'Amazon Playlist Count', 'Pandora Streams', 'Pandora Track Stations',\n",
            "       'Soundcloud Streams', 'Shazam Counts', 'TIDAL Popularity',\n",
            "       'Explicit Track', 'Unnamed: 29'],\n",
            "      dtype='object')\n"
          ]
        },
        {
          "output_type": "error",
          "ename": "KeyError",
          "evalue": "'Streams'",
          "traceback": [
            "\u001b[0;31m---------------------------------------------------------------------------\u001b[0m",
            "\u001b[0;31mKeyError\u001b[0m                                  Traceback (most recent call last)",
            "\u001b[0;32m/usr/local/lib/python3.10/dist-packages/pandas/core/indexes/base.py\u001b[0m in \u001b[0;36mget_loc\u001b[0;34m(self, key)\u001b[0m\n\u001b[1;32m   3790\u001b[0m         \u001b[0;32mtry\u001b[0m\u001b[0;34m:\u001b[0m\u001b[0;34m\u001b[0m\u001b[0;34m\u001b[0m\u001b[0m\n\u001b[0;32m-> 3791\u001b[0;31m             \u001b[0;32mreturn\u001b[0m \u001b[0mself\u001b[0m\u001b[0;34m.\u001b[0m\u001b[0m_engine\u001b[0m\u001b[0;34m.\u001b[0m\u001b[0mget_loc\u001b[0m\u001b[0;34m(\u001b[0m\u001b[0mcasted_key\u001b[0m\u001b[0;34m)\u001b[0m\u001b[0;34m\u001b[0m\u001b[0;34m\u001b[0m\u001b[0m\n\u001b[0m\u001b[1;32m   3792\u001b[0m         \u001b[0;32mexcept\u001b[0m \u001b[0mKeyError\u001b[0m \u001b[0;32mas\u001b[0m \u001b[0merr\u001b[0m\u001b[0;34m:\u001b[0m\u001b[0;34m\u001b[0m\u001b[0;34m\u001b[0m\u001b[0m\n",
            "\u001b[0;32mindex.pyx\u001b[0m in \u001b[0;36mpandas._libs.index.IndexEngine.get_loc\u001b[0;34m()\u001b[0m\n",
            "\u001b[0;32mindex.pyx\u001b[0m in \u001b[0;36mpandas._libs.index.IndexEngine.get_loc\u001b[0;34m()\u001b[0m\n",
            "\u001b[0;32mpandas/_libs/hashtable_class_helper.pxi\u001b[0m in \u001b[0;36mpandas._libs.hashtable.PyObjectHashTable.get_item\u001b[0;34m()\u001b[0m\n",
            "\u001b[0;32mpandas/_libs/hashtable_class_helper.pxi\u001b[0m in \u001b[0;36mpandas._libs.hashtable.PyObjectHashTable.get_item\u001b[0;34m()\u001b[0m\n",
            "\u001b[0;31mKeyError\u001b[0m: 'Streams'",
            "\nThe above exception was the direct cause of the following exception:\n",
            "\u001b[0;31mKeyError\u001b[0m                                  Traceback (most recent call last)",
            "\u001b[0;32m<ipython-input-14-874c0252e578>\u001b[0m in \u001b[0;36m<cell line: 12>\u001b[0;34m()\u001b[0m\n\u001b[1;32m     10\u001b[0m \u001b[0;34m\u001b[0m\u001b[0m\n\u001b[1;32m     11\u001b[0m \u001b[0;31m# Handle missing values with median (for numerical columns)\u001b[0m\u001b[0;34m\u001b[0m\u001b[0;34m\u001b[0m\u001b[0m\n\u001b[0;32m---> 12\u001b[0;31m \u001b[0mspotify_data\u001b[0m\u001b[0;34m[\u001b[0m\u001b[0;34m'Streams'\u001b[0m\u001b[0;34m]\u001b[0m\u001b[0;34m.\u001b[0m\u001b[0mfillna\u001b[0m\u001b[0;34m(\u001b[0m\u001b[0mspotify_data\u001b[0m\u001b[0;34m[\u001b[0m\u001b[0;34m'Streams'\u001b[0m\u001b[0;34m]\u001b[0m\u001b[0;34m.\u001b[0m\u001b[0mmedian\u001b[0m\u001b[0;34m(\u001b[0m\u001b[0;34m)\u001b[0m\u001b[0;34m,\u001b[0m \u001b[0minplace\u001b[0m\u001b[0;34m=\u001b[0m\u001b[0;32mTrue\u001b[0m\u001b[0;34m)\u001b[0m\u001b[0;34m\u001b[0m\u001b[0;34m\u001b[0m\u001b[0m\n\u001b[0m\u001b[1;32m     13\u001b[0m \u001b[0;34m\u001b[0m\u001b[0m\n\u001b[1;32m     14\u001b[0m \u001b[0;31m# Handle missing values with mode (for categorical columns, if any)\u001b[0m\u001b[0;34m\u001b[0m\u001b[0;34m\u001b[0m\u001b[0m\n",
            "\u001b[0;32m/usr/local/lib/python3.10/dist-packages/pandas/core/frame.py\u001b[0m in \u001b[0;36m__getitem__\u001b[0;34m(self, key)\u001b[0m\n\u001b[1;32m   3891\u001b[0m             \u001b[0;32mif\u001b[0m \u001b[0mself\u001b[0m\u001b[0;34m.\u001b[0m\u001b[0mcolumns\u001b[0m\u001b[0;34m.\u001b[0m\u001b[0mnlevels\u001b[0m \u001b[0;34m>\u001b[0m \u001b[0;36m1\u001b[0m\u001b[0;34m:\u001b[0m\u001b[0;34m\u001b[0m\u001b[0;34m\u001b[0m\u001b[0m\n\u001b[1;32m   3892\u001b[0m                 \u001b[0;32mreturn\u001b[0m \u001b[0mself\u001b[0m\u001b[0;34m.\u001b[0m\u001b[0m_getitem_multilevel\u001b[0m\u001b[0;34m(\u001b[0m\u001b[0mkey\u001b[0m\u001b[0;34m)\u001b[0m\u001b[0;34m\u001b[0m\u001b[0;34m\u001b[0m\u001b[0m\n\u001b[0;32m-> 3893\u001b[0;31m             \u001b[0mindexer\u001b[0m \u001b[0;34m=\u001b[0m \u001b[0mself\u001b[0m\u001b[0;34m.\u001b[0m\u001b[0mcolumns\u001b[0m\u001b[0;34m.\u001b[0m\u001b[0mget_loc\u001b[0m\u001b[0;34m(\u001b[0m\u001b[0mkey\u001b[0m\u001b[0;34m)\u001b[0m\u001b[0;34m\u001b[0m\u001b[0;34m\u001b[0m\u001b[0m\n\u001b[0m\u001b[1;32m   3894\u001b[0m             \u001b[0;32mif\u001b[0m \u001b[0mis_integer\u001b[0m\u001b[0;34m(\u001b[0m\u001b[0mindexer\u001b[0m\u001b[0;34m)\u001b[0m\u001b[0;34m:\u001b[0m\u001b[0;34m\u001b[0m\u001b[0;34m\u001b[0m\u001b[0m\n\u001b[1;32m   3895\u001b[0m                 \u001b[0mindexer\u001b[0m \u001b[0;34m=\u001b[0m \u001b[0;34m[\u001b[0m\u001b[0mindexer\u001b[0m\u001b[0;34m]\u001b[0m\u001b[0;34m\u001b[0m\u001b[0;34m\u001b[0m\u001b[0m\n",
            "\u001b[0;32m/usr/local/lib/python3.10/dist-packages/pandas/core/indexes/base.py\u001b[0m in \u001b[0;36mget_loc\u001b[0;34m(self, key)\u001b[0m\n\u001b[1;32m   3796\u001b[0m             ):\n\u001b[1;32m   3797\u001b[0m                 \u001b[0;32mraise\u001b[0m \u001b[0mInvalidIndexError\u001b[0m\u001b[0;34m(\u001b[0m\u001b[0mkey\u001b[0m\u001b[0;34m)\u001b[0m\u001b[0;34m\u001b[0m\u001b[0;34m\u001b[0m\u001b[0m\n\u001b[0;32m-> 3798\u001b[0;31m             \u001b[0;32mraise\u001b[0m \u001b[0mKeyError\u001b[0m\u001b[0;34m(\u001b[0m\u001b[0mkey\u001b[0m\u001b[0;34m)\u001b[0m \u001b[0;32mfrom\u001b[0m \u001b[0merr\u001b[0m\u001b[0;34m\u001b[0m\u001b[0;34m\u001b[0m\u001b[0m\n\u001b[0m\u001b[1;32m   3799\u001b[0m         \u001b[0;32mexcept\u001b[0m \u001b[0mTypeError\u001b[0m\u001b[0;34m:\u001b[0m\u001b[0;34m\u001b[0m\u001b[0;34m\u001b[0m\u001b[0m\n\u001b[1;32m   3800\u001b[0m             \u001b[0;31m# If we have a listlike key, _check_indexing_error will raise\u001b[0m\u001b[0;34m\u001b[0m\u001b[0;34m\u001b[0m\u001b[0m\n",
            "\u001b[0;31mKeyError\u001b[0m: 'Streams'"
          ]
        }
      ]
    }
  ]
}